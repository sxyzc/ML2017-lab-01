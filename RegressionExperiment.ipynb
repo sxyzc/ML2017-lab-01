{
 "cells": [
  {
   "cell_type": "code",
   "execution_count": 73,
   "metadata": {
    "scrolled": true
   },
   "outputs": [
    {
     "name": "stdout",
     "output_type": "stream",
     "text": [
      "loss_train: 3898.07292456\n",
      "loss_test: 1748.04226342\n"
     ]
    },
    {
     "data": {
      "image/png": "[encoded data removed]",
      "text/plain": [
       "<matplotlib.figure.Figure at 0x1b9569aa940>"
      ]
     },
     "metadata": {},
     "output_type": "display_data"
    }
   ],
   "source": [
    "import matplotlib.pyplot as plt\n",
    "import numpy as np\n",
    "from sklearn.datasets import load_svmlight_file\n",
    "from sklearn.model_selection import train_test_split\n",
    "\n",
    "#读取数据，将X增加一个特征，X=(X;1),划分训练集和验证集\n",
    "X_data, y_data = load_svmlight_file(\"housing_scale.txt\")\n",
    "temp = np.ones(shape=[len(y_data), 1])\n",
    "X_data = np.concatenate([X_data.toarray(), temp], axis=1)\n",
    "X_train, X_test, y_train, y_test = train_test_split(X_data, y_data, test_size=0.33, random_state=42)\n",
    "\n",
    "#根据Loss=(y-X*w)^T*(y-X*w)/2计算Loss\n",
    "def getLoss(X, y, theta):\n",
    "    return np.dot((y - np.dot(X, theta)).T, y - np.dot(X, theta)) / 2\n",
    "\n",
    "#LinearRegression主过程\n",
    "def work(X_train, y_train, X_test, y_test, w_train, lr, max_epoch, loss_train, loss_test, epochs):\n",
    "    #开始训练，迭代max_epoch次\n",
    "    for i in range(0, max_epoch):\n",
    "        #添加画图列表的数据，利用getLoss计算相应集合上的Loss\n",
    "        epochs.append(i)\n",
    "        loss_train.append(getLoss(X_train, y_train, w_train))\n",
    "        loss_test.append(getLoss(X_test, y_test, w_train))\n",
    "        \n",
    "        #根据gradient=X^T*(X*w-y)计算梯度\n",
    "        gradient = np.dot(X_train.T, np.dot(X_train, w_train) - y_train) / len(y_train)\n",
    "        \n",
    "        #更新w\n",
    "        w_train = w_train - lr * gradient\n",
    "    return w_train\n",
    "\n",
    "#全零初始化\n",
    "w_train = np.zeros(X_train.shape[1])\n",
    "\n",
    "#初始化超参数\n",
    "lr = 0.35\n",
    "max_epoch = 300\n",
    "\n",
    "#画图列表的初始化，epochs存迭代次数，loss_train为训练集Loss，loss_test为验证集Loss\n",
    "epochs = []\n",
    "loss_train = []\n",
    "loss_test = []\n",
    "w_train = work(X_train, y_train, X_test, y_test, w_train, lr, max_epoch, loss_train, loss_test, epochs)\n",
    "\n",
    "#输出最后一次迭代前的训练集和验证集上的Loss，用以调参\n",
    "print(\"loss_train:\", loss_train[len(loss_train)-1])\n",
    "print(\"loss_test:\", loss_test[len(loss_test)-1])\n",
    "\n",
    "#显示训练集和验证集的Loss随迭代次数增加而变化的图形\n",
    "plt.plot(epochs, loss_test, label='validation loss')\n",
    "plt.plot(epochs, loss_train, label='train loss')\n",
    "plt.xlabel('Epoch')\n",
    "plt.ylabel('Loss')\n",
    "plt.legend()\n",
    "plt.show()\n"
   ]
  },
  {
   "cell_type": "code",
   "execution_count": null,
   "metadata": {
    "collapsed": true
   },
   "outputs": [],
   "source": []
  }
 ],
 "metadata": {
  "kernelspec": {
   "display_name": "Python 3",
   "language": "python",
   "name": "python3"
  },
  "language_info": {
   "codemirror_mode": {
    "name": "ipython",
    "version": 3
   },
   "file_extension": ".py",
   "mimetype": "text/x-python",
   "name": "python",
   "nbconvert_exporter": "python",
   "pygments_lexer": "ipython3",
   "version": "3.6.2"
  }
 },
 "nbformat": 4,
 "nbformat_minor": 2
}
